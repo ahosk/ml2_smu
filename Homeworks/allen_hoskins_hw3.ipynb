{
 "cells": [
  {
   "cell_type": "code",
   "execution_count": null,
   "metadata": {},
   "outputs": [],
   "source": [
    "# Decision Making With Matrices\n",
    "\n",
    "# This is a pretty simple assignment.  You will do something you do everyday, but today it will be with matrix manipulations. \n",
    "\n",
    "# The problem is: you and your work friends are trying to decide where to go for lunch. You have to pick a restaurant that’s best for everyone.\n",
    "#   Then you should decide if you should split into two groups so everyone is happier.  \n",
    "\n",
    "# Despite the simplicity of the process you will need to make decisions regarding how to process the data.\n",
    "  \n",
    "# This process was thoroughly investigated in the operation research community.  \n",
    "# This approach can prove helpful on any number of decision making problems that are currently not leveraging machine learning.  \n",
    "\n",
    "# You asked your 10 work friends to answer a survey. They gave you back the following dictionary object.  \n",
    "people = {'Jane': {'willingness to travel':\n",
    "                  'desire for new experience':\n",
    "                  'cost':\n",
    "                  'indian food':\n",
    "                  'mexican food':\n",
    "                  'hipster points':\n",
    "                  'vegetarian': }\n",
    "                }          \n",
    "\n",
    "# Transform the user data into a matrix ( M_people). Keep track of column and row IDs.   \n",
    "\n",
    "# Next you collected data from an internet website. You got the following information.\n",
    "\n",
    "restaurants  = {'flacos':{'distance' : \n",
    "                        'novelty' :\n",
    "                        'cost': \n",
    "                        'average rating': \n",
    "                        'cuisine':\n",
    "                        'vegetarian':}}\n",
    "\n",
    "\n",
    "# Transform the restaurant data into a matrix (M_resturants) using the same column index.\n",
    "\n",
    "# The most important idea in this project is the idea of a linear combination.  \n",
    "# Informally describe what a linear combination is  and how it will relate to our restaurant matrix.\n",
    "\n",
    "# Choose a person and compute(using a linear combination) the top restaurant for them.  What does each entry in the resulting vector represent? \n",
    "\n",
    "#JANE\n",
    "\n",
    "# Next, compute a new matrix (M_usr_x_rest  i.e. an user by restaurant) from all people.  What does the a_ij matrix represent? \n",
    "\n",
    "# Sum all columns in M_usr_x_rest to get the optimal restaurant for all users.  What do the entries represent?\n",
    "\n",
    "\n",
    "HEREHEREREHERHEHREHRHERHEHR\n",
    "# Now convert each row in the M_usr_x_rest into a ranking for each user and call it M_usr_x_rest_rank.   Do the same as above to generate the optimal restaurant choice.  \n",
    "\n",
    "# Why is there a difference between the two?  What problem arrives?  What does it represent in the real world?\n",
    "\n",
    "# How should you preprocess your data to remove this problem? \n",
    "\n",
    "# Find  user profiles that are problematic, explain why?\n",
    "\n",
    "# Think of two metrics to compute the disatistifaction with the group.  \n",
    "\n",
    "# Should you split into two groups today? \n",
    "\n",
    "# Ok. Now you just found out the boss is paying for the meal. How should you adjust? Now what is the best restaurant?\n",
    "\n",
    "# Tomorrow you visit another team. You have the same restaurants and they told you their optimal ordering for restaurants. Can you find their weight matrix? \n",
    "\n"
   ]
  },
  {
   "cell_type": "code",
   "execution_count": 6,
   "metadata": {},
   "outputs": [],
   "source": [
    "people = {'Jane': {'willingness to travel': 5,\n",
    "                  'desire for new experience': 4,\n",
    "                  'cost': 3,\n",
    "                  'indian food': 2,\n",
    "                  'mexican food': 5,\n",
    "                  'hipster points': 4,\n",
    "                  'vegetarian': 3},\n",
    "          'John': {'willingness to travel': 3,\n",
    "                  'desire for new experience': 5,\n",
    "                  'cost': 2,\n",
    "                  'indian food': 5,\n",
    "                  'mexican food': 4,\n",
    "                  'hipster points': 3,\n",
    "                  'vegetarian': 2},\n",
    "          'Bob': {'willingness to travel': 4,\n",
    "                  'desire for new experience': 5,\n",
    "                  'cost': 3,\n",
    "                  'indian food': 5,\n",
    "                  'mexican food': 3,\n",
    "                  'hipster points': 2,\n",
    "                  'vegetarian': 4},\n",
    "          'Lisa': {'willingness to travel': 5,\n",
    "                  'desire for new experience': 4,\n",
    "                  'cost': 2,\n",
    "                  'indian food': 4,\n",
    "                  'mexican food': 5,\n",
    "                  'hipster points': 5,\n",
    "                  'vegetarian': 6},\n",
    "          'Sarah': {'willingness to travel': 4,\n",
    "                  'desire for new experience': 5,\n",
    "                  'cost': 3,\n",
    "                  'indian food': 5,\n",
    "                  'mexican food': 4,\n",
    "                  'hipster points': 3,\n",
    "                  'vegetarian': 7},\n",
    "          'Tom': {'willingness to travel': 2,\n",
    "                  'desire for new experience': 3,\n",
    "                  'cost': 5,\n",
    "                  'indian food': 5,\n",
    "                  'mexican food': 2,\n",
    "                  'hipster points': 1,\n",
    "                  'vegetarian': 1},\n",
    "          'Henry': {'willingness to travel': 5,\n",
    "                  'desire for new experience': 5,\n",
    "                  'cost': 1,\n",
    "                  'indian food': 5,\n",
    "                  'mexican food': 5,\n",
    "                  'hipster points': 5,\n",
    "                  'vegetarian': 2},\n",
    "          'David': {'willingness to travel': 3,\n",
    "                  'desire for new experience': 4,\n",
    "                  'cost': 2,\n",
    "                  'indian food': 4,\n",
    "                  'mexican food': 3,\n",
    "                  'hipster points': 2,\n",
    "                  'vegetarian': 9},\n",
    "          'Emily': {'willingness to travel': 4,\n",
    "                  'desire for new experience': 5,\n",
    "                  'cost': 3,\n",
    "                  'indian food': 5,\n",
    "                  'mexican food': 4,\n",
    "                  'hipster points': 3,\n",
    "                  'vegetarian': 7},\n",
    "          'Michael': {'willingness to travel': 5,\n",
    "                  'desire for new experience': 4,\n",
    "                  'cost': 1,\n",
    "                  'indian food': 5,\n",
    "                  'mexican food': 5,\n",
    "                  'hipster points': 4,\n",
    "                  'vegetarian': 5},\n",
    "         }\n"
   ]
  },
  {
   "cell_type": "code",
   "execution_count": 68,
   "metadata": {},
   "outputs": [],
   "source": [
    "restaurants = {\n",
    "    'Flacos': {'distance': 2, 'novelty': 3, 'cost': 2, 'average rating': 4, 'cuisine': 1, 'vegetarian': 1,'newness':2},\n",
    "    'Indian Delight': {'distance': 1, 'novelty': 2, 'cost': 3, 'average rating': 5, 'cuisine': 2, 'vegetarian': 1,'newness':1},\n",
    "    'Hipster Café': {'distance': 3, 'novelty': 5, 'cost': 4, 'average rating': 3, 'cuisine': 3, 'vegetarian': 1,'newness':8},\n",
    "    'Sushi Palace': {'distance': 4, 'novelty': 4, 'cost': 5, 'average rating': 5, 'cuisine': 4, 'vegetarian': 1,'newness':7},\n",
    "    'Steak House': {'distance': 5, 'novelty': 2, 'cost': 5, 'average rating': 4, 'cuisine': 5, 'vegetarian': 0,'newness':4},\n",
    "    'Vegetarian Haven': {'distance': 2, 'novelty': 3, 'cost': 2, 'average rating': 5, 'cuisine': 6, 'vegetarian': 1,'newness':9},\n",
    "    'Pasta Factory': {'distance': 3, 'novelty': 4, 'cost': 3, 'average rating': 4, 'cuisine': 9, 'vegetarian': 1,'newness':6},\n",
    "    'Thai Kitchen': {'distance': 1, 'novelty': 5, 'cost': 2, 'average rating': 5, 'cuisine': 7, 'vegetarian': 1,'newness':6},\n",
    "    'BBQ Joint': {'distance': 4, 'novelty': 2, 'cost': 5, 'average rating': 4, 'cuisine':8, 'vegetarian': 0,'newness':2},\n",
    "    'Mexican Taqueria': {'distance': 5, 'novelty': 3, 'cost': 2, 'average rating': 4, 'cuisine': 1, 'vegetarian': 0,'newness':8}\n",
    "}\n",
    "\n",
    "\n",
    "rest_type_dict = {'Mexican': 1,'Indian':2,'Café':3,'Japanese':4,'Steak':5,'Vegitarian':6,'Thai':7,'BBQ':8,'Italian': 9}"
   ]
  },
  {
   "cell_type": "code",
   "execution_count": 55,
   "metadata": {},
   "outputs": [
    {
     "data": {
      "text/plain": [
       "['distance',\n",
       " 'novelty',\n",
       " 'cost',\n",
       " 'average rating',\n",
       " 'cuisine',\n",
       " 'vegetarian',\n",
       " 'blank']"
      ]
     },
     "execution_count": 55,
     "metadata": {},
     "output_type": "execute_result"
    }
   ],
   "source": [
    "list(restaurants[next(iter(restaurants))].keys())"
   ]
  },
  {
   "cell_type": "code",
   "execution_count": 95,
   "metadata": {},
   "outputs": [],
   "source": [
    "import numpy as np\n",
    "def create_array(dict):\n",
    "    columns = list(dict[next(iter(dict))].keys())\n",
    "    rows = list(dict.keys())\n",
    "\n",
    "    matrix = []\n",
    "    for i, val in enumerate(dict.values()):\n",
    "        matrix.append([val[col] for col in columns])\n",
    "        np.asarray(matrix)\n",
    "    return columns,rows,matrix\n",
    "\n",
    "def calc_dot_prod(matrix_1,matrix_2):\n",
    "    return np.dot(np.asmatrix(matrix_1),np.asmatrix(matrix_2).T)\n",
    "\n",
    "def get_index_max(matrix_1,matrix_2):\n",
    "    return np.argmax(calc_dot_prod(matrix_1,matrix_2))\n",
    "\n",
    "def get_top_rest(person_dictionary,restaurant_list,matrix_1,matrix_2):\n",
    "    top_rest_people = {}\n",
    "    for i,person in enumerate(person_dictionary):\n",
    "        top_rest_people.update({person:restaurant_list[get_index_max(matrix_1[i],matrix_2)]})\n",
    "    return top_rest_people\n",
    "\n",
    "people_cols,people_rows,people_matrix = create_array(people)\n",
    "rest_cols,rest_rows,rest_matrix = create_array(restaurants)\n",
    "\n",
    "#jane_top_rest = rest_rows[get_index_max(people_matrix[1],rest_matrix)]\n",
    "\n",
    "people_top_rests = get_top_rest(people,rest_rows,people_matrix,rest_matrix)"
   ]
  },
  {
   "cell_type": "code",
   "execution_count": 96,
   "metadata": {},
   "outputs": [
    {
     "data": {
      "text/plain": [
       "{'Jane': 'Pasta Factory',\n",
       " 'John': 'Pasta Factory',\n",
       " 'Bob': 'Sushi Palace',\n",
       " 'Lisa': 'Pasta Factory',\n",
       " 'Sarah': 'Sushi Palace',\n",
       " 'Tom': 'Sushi Palace',\n",
       " 'Henry': 'Pasta Factory',\n",
       " 'David': 'Vegetarian Haven',\n",
       " 'Emily': 'Sushi Palace',\n",
       " 'Michael': 'Pasta Factory'}"
      ]
     },
     "execution_count": 96,
     "metadata": {},
     "output_type": "execute_result"
    }
   ],
   "source": [
    "people_top_rests"
   ]
  },
  {
   "cell_type": "code",
   "execution_count": 77,
   "metadata": {},
   "outputs": [
    {
     "data": {
      "text/plain": [
       "6"
      ]
     },
     "execution_count": 77,
     "metadata": {},
     "output_type": "execute_result"
    }
   ],
   "source": []
  },
  {
   "cell_type": "code",
   "execution_count": 36,
   "metadata": {},
   "outputs": [
    {
     "ename": "ValueError",
     "evalue": "shapes (10,7) and (10,7) not aligned: 7 (dim 1) != 10 (dim 0)",
     "output_type": "error",
     "traceback": [
      "\u001b[0;31m---------------------------------------------------------------------------\u001b[0m",
      "\u001b[0;31mValueError\u001b[0m                                Traceback (most recent call last)",
      "\u001b[1;32m/Users/allen/Desktop/MSDS/ML2/ml2_smu/Homeworks/allen_hoskins_hw3.ipynb Cell 8\u001b[0m in \u001b[0;36m<cell line: 9>\u001b[0;34m()\u001b[0m\n\u001b[1;32m      <a href='vscode-notebook-cell:/Users/allen/Desktop/MSDS/ML2/ml2_smu/Homeworks/allen_hoskins_hw3.ipynb#ch0000006?line=5'>6</a>\u001b[0m     \u001b[39mreturn\u001b[39;00m np\u001b[39m.\u001b[39mdot(np\u001b[39m.\u001b[39masarray(matrix1), np\u001b[39m.\u001b[39masarray(matrix2))\n\u001b[1;32m      <a href='vscode-notebook-cell:/Users/allen/Desktop/MSDS/ML2/ml2_smu/Homeworks/allen_hoskins_hw3.ipynb#ch0000006?line=7'>8</a>\u001b[0m \u001b[39m# Calculate the dot product of the normalized matrices\u001b[39;00m\n\u001b[0;32m----> <a href='vscode-notebook-cell:/Users/allen/Desktop/MSDS/ML2/ml2_smu/Homeworks/allen_hoskins_hw3.ipynb#ch0000006?line=8'>9</a>\u001b[0m result \u001b[39m=\u001b[39m dot_product(restaurant_matrix, people_matrix)\n\u001b[1;32m     <a href='vscode-notebook-cell:/Users/allen/Desktop/MSDS/ML2/ml2_smu/Homeworks/allen_hoskins_hw3.ipynb#ch0000006?line=10'>11</a>\u001b[0m \u001b[39mprint\u001b[39m(result)\n",
      "\u001b[1;32m/Users/allen/Desktop/MSDS/ML2/ml2_smu/Homeworks/allen_hoskins_hw3.ipynb Cell 8\u001b[0m in \u001b[0;36mdot_product\u001b[0;34m(matrix1, matrix2)\u001b[0m\n\u001b[1;32m      <a href='vscode-notebook-cell:/Users/allen/Desktop/MSDS/ML2/ml2_smu/Homeworks/allen_hoskins_hw3.ipynb#ch0000006?line=3'>4</a>\u001b[0m \u001b[39mdef\u001b[39;00m \u001b[39mdot_product\u001b[39m(matrix1, matrix2):\n\u001b[1;32m      <a href='vscode-notebook-cell:/Users/allen/Desktop/MSDS/ML2/ml2_smu/Homeworks/allen_hoskins_hw3.ipynb#ch0000006?line=4'>5</a>\u001b[0m     \u001b[39m# Calculate the dot product of the two matrices\u001b[39;00m\n\u001b[0;32m----> <a href='vscode-notebook-cell:/Users/allen/Desktop/MSDS/ML2/ml2_smu/Homeworks/allen_hoskins_hw3.ipynb#ch0000006?line=5'>6</a>\u001b[0m     \u001b[39mreturn\u001b[39;00m np\u001b[39m.\u001b[39;49mdot(np\u001b[39m.\u001b[39;49masarray(matrix1), np\u001b[39m.\u001b[39;49masarray(matrix2))\n",
      "File \u001b[0;32m<__array_function__ internals>:180\u001b[0m, in \u001b[0;36mdot\u001b[0;34m(*args, **kwargs)\u001b[0m\n",
      "\u001b[0;31mValueError\u001b[0m: shapes (10,7) and (10,7) not aligned: 7 (dim 1) != 10 (dim 0)"
     ]
    }
   ],
   "source": [
    "import numpy as np\n",
    "\n",
    "\n",
    "def dot_product(matrix1, matrix2):\n",
    "    # Calculate the dot product of the two matrices\n",
    "    return np.dot(np.asarray(matrix1), np.asarray(matrix2))\n",
    "\n",
    "# Calculate the dot product of the normalized matrices\n",
    "result = dot_product(restaurant_matrix, people_matrix)\n",
    "\n",
    "print(result)\n"
   ]
  },
  {
   "cell_type": "code",
   "execution_count": null,
   "metadata": {},
   "outputs": [],
   "source": []
  }
 ],
 "metadata": {
  "kernelspec": {
   "display_name": "Python 3.9.13 ('ML1')",
   "language": "python",
   "name": "python3"
  },
  "language_info": {
   "codemirror_mode": {
    "name": "ipython",
    "version": 3
   },
   "file_extension": ".py",
   "mimetype": "text/x-python",
   "name": "python",
   "nbconvert_exporter": "python",
   "pygments_lexer": "ipython3",
   "version": "3.9.13"
  },
  "orig_nbformat": 4,
  "vscode": {
   "interpreter": {
    "hash": "3121556d4473c412f0595648b5a85484255f0878c67145bad0a6023335311018"
   }
  }
 },
 "nbformat": 4,
 "nbformat_minor": 2
}
