{
 "cells": [
  {
   "cell_type": "code",
   "execution_count": null,
   "metadata": {},
   "outputs": [],
   "source": [
    "# Decision Making With Matrices\n",
    "\n",
    "# This is a pretty simple assignment.  You will do something you do everyday, but today it will be with matrix manipulations. \n",
    "\n",
    "# The problem is: you and your work friends are trying to decide where to go for lunch. You have to pick a restaurant that’s best for everyone.\n",
    "#   Then you should decide if you should split into two groups so everyone is happier.  \n",
    "\n",
    "# Despite the simplicity of the process you will need to make decisions regarding how to process the data.\n",
    "  \n",
    "# This process was thoroughly investigated in the operation research community.  \n",
    "# This approach can prove helpful on any number of decision making problems that are currently not leveraging machine learning.  \n",
    "\n",
    "# You asked your 10 work friends to answer a survey. They gave you back the following dictionary object.  \n",
    "people = {'Jane': {'willingness to travel':\n",
    "                  'desire for new experience':\n",
    "                  'cost':\n",
    "                  'indian food':\n",
    "                  'mexican food':\n",
    "                  'hipster points':\n",
    "                  'vegetarian': }\n",
    "                }          \n",
    "\n",
    "# Transform the user data into a matrix ( M_people). Keep track of column and row IDs.   \n",
    "\n",
    "# Next you collected data from an internet website. You got the following information.\n",
    "\n",
    "restaurants  = {'flacos':{'distance' : \n",
    "                        'novelty' :\n",
    "                        'cost': \n",
    "                        'average rating': \n",
    "                        'cuisine':\n",
    "                        'vegetarian':}}\n",
    "\n",
    "\n",
    "# Transform the restaurant data into a matrix (M_resturants) using the same column index.\n",
    "\n",
    "# The most important idea in this project is the idea of a linear combination.  \n",
    "# Informally describe what a linear combination is  and how it will relate to our restaurant matrix.\n",
    "\n",
    "# Choose a person and compute(using a linear combination) the top restaurant for them.  What does each entry in the resulting vector represent? \n",
    "\n",
    "# Next, compute a new matrix (M_usr_x_rest  i.e. an user by restaurant) from all people.  What does the a_ij matrix represent? \n",
    "\n",
    "# Sum all columns in M_usr_x_rest to get the optimal restaurant for all users.  What do the entries represent?\n",
    "\n",
    "# Now convert each row in the M_usr_x_rest into a ranking for each user and call it M_usr_x_rest_rank.   Do the same as above to generate the optimal restaurant choice.  \n",
    "\n",
    "# Why is there a difference between the two?  What problem arrives?  What does it represent in the real world?\n",
    "\n",
    "# How should you preprocess your data to remove this problem? \n",
    "\n",
    "# Find  user profiles that are problematic, explain why?\n",
    "\n",
    "# Think of two metrics to compute the disatistifaction with the group.  \n",
    "\n",
    "# Should you split into two groups today? \n",
    "\n",
    "# Ok. Now you just found out the boss is paying for the meal. How should you adjust? Now what is the best restaurant?\n",
    "\n",
    "# Tomorrow you visit another team. You have the same restaurants and they told you their optimal ordering for restaurants. Can you find their weight matrix? \n",
    "\n"
   ]
  },
  {
   "cell_type": "code",
   "execution_count": 3,
   "metadata": {},
   "outputs": [],
   "source": [
    "people = {'Jane': {'willingness to travel': 5,\n",
    "                  'desire for new experience': 4,\n",
    "                  'cost': 3,\n",
    "                  'indian food': 2,\n",
    "                  'mexican food': 5,\n",
    "                  'hipster points': 4,\n",
    "                  'vegetarian': True},\n",
    "          'John': {'willingness to travel': 3,\n",
    "                  'desire for new experience': 5,\n",
    "                  'cost': 2,\n",
    "                  'indian food': 5,\n",
    "                  'mexican food': 4,\n",
    "                  'hipster points': 3,\n",
    "                  'vegetarian': False},\n",
    "          'Bob': {'willingness to travel': 4,\n",
    "                  'desire for new experience': 5,\n",
    "                  'cost': 3,\n",
    "                  'indian food': 5,\n",
    "                  'mexican food': 3,\n",
    "                  'hipster points': 2,\n",
    "                  'vegetarian': False},\n",
    "          'Lisa': {'willingness to travel': 5,\n",
    "                  'desire for new experience': 4,\n",
    "                  'cost': 2,\n",
    "                  'indian food': 4,\n",
    "                  'mexican food': 5,\n",
    "                  'hipster points': 5,\n",
    "                  'vegetarian': True},\n",
    "          'Sarah': {'willingness to travel': 4,\n",
    "                  'desire for new experience': 5,\n",
    "                  'cost': 3,\n",
    "                  'indian food': 5,\n",
    "                  'mexican food': 4,\n",
    "                  'hipster points': 3,\n",
    "                  'vegetarian': True},\n",
    "          'Tom': {'willingness to travel': 2,\n",
    "                  'desire for new experience': 3,\n",
    "                  'cost': 5,\n",
    "                  'indian food': 5,\n",
    "                  'mexican food': 2,\n",
    "                  'hipster points': 1,\n",
    "                  'vegetarian': False},\n",
    "          'Henry': {'willingness to travel': 5,\n",
    "                  'desire for new experience': 5,\n",
    "                  'cost': 1,\n",
    "                  'indian food': 5,\n",
    "                  'mexican food': 5,\n",
    "                  'hipster points': 5,\n",
    "                  'vegetarian': True},\n",
    "          'David': {'willingness to travel': 3,\n",
    "                  'desire for new experience': 4,\n",
    "                  'cost': 2,\n",
    "                  'indian food': 4,\n",
    "                  'mexican food': 3,\n",
    "                  'hipster points': 2,\n",
    "                  'vegetarian': False},\n",
    "          'Emily': {'willingness to travel': 4,\n",
    "                  'desire for new experience': 5,\n",
    "                  'cost': 3,\n",
    "                  'indian food': 5,\n",
    "                  'mexican food': 4,\n",
    "                  'hipster points': 3,\n",
    "                  'vegetarian': True},\n",
    "          'Michael': {'willingness to travel': 5,\n",
    "                  'desire for new experience': 4,\n",
    "                  'cost': 1,\n",
    "                  'indian food': 5,\n",
    "                  'mexican food': 5,\n",
    "                  'hipster points': 4,\n",
    "                  'vegetarian': False},\n",
    "         }\n"
   ]
  },
  {
   "cell_type": "code",
   "execution_count": 15,
   "metadata": {},
   "outputs": [
    {
     "ename": "AttributeError",
     "evalue": "'list' object has no attribute 'to_array'",
     "output_type": "error",
     "traceback": [
      "\u001b[0;31m---------------------------------------------------------------------------\u001b[0m",
      "\u001b[0;31mAttributeError\u001b[0m                            Traceback (most recent call last)",
      "\u001b[1;32m/Users/allen/Desktop/MSDS/ML2/ml2_smu/Homeworks/allen_hoskins_hw3.ipynb Cell 3\u001b[0m in \u001b[0;36m<cell line: 5>\u001b[0;34m()\u001b[0m\n\u001b[1;32m      <a href='vscode-notebook-cell:/Users/allen/Desktop/MSDS/ML2/ml2_smu/Homeworks/allen_hoskins_hw3.ipynb#ch0000002?line=4'>5</a>\u001b[0m \u001b[39mfor\u001b[39;00m i, person \u001b[39min\u001b[39;00m \u001b[39menumerate\u001b[39m(people\u001b[39m.\u001b[39mvalues()):\n\u001b[1;32m      <a href='vscode-notebook-cell:/Users/allen/Desktop/MSDS/ML2/ml2_smu/Homeworks/allen_hoskins_hw3.ipynb#ch0000002?line=5'>6</a>\u001b[0m     people_matrix\u001b[39m.\u001b[39mappend([i\u001b[39m+\u001b[39m\u001b[39m1\u001b[39m] \u001b[39m+\u001b[39m [person[col] \u001b[39mfor\u001b[39;00m col \u001b[39min\u001b[39;00m columns])\n\u001b[0;32m----> <a href='vscode-notebook-cell:/Users/allen/Desktop/MSDS/ML2/ml2_smu/Homeworks/allen_hoskins_hw3.ipynb#ch0000002?line=6'>7</a>\u001b[0m     people_matrix\u001b[39m.\u001b[39;49mto_array()\n\u001b[1;32m      <a href='vscode-notebook-cell:/Users/allen/Desktop/MSDS/ML2/ml2_smu/Homeworks/allen_hoskins_hw3.ipynb#ch0000002?line=8'>9</a>\u001b[0m \u001b[39mprint\u001b[39m(\u001b[39m\"\u001b[39m\u001b[39mColumns:\u001b[39m\u001b[39m\"\u001b[39m, columns)\n\u001b[1;32m     <a href='vscode-notebook-cell:/Users/allen/Desktop/MSDS/ML2/ml2_smu/Homeworks/allen_hoskins_hw3.ipynb#ch0000002?line=9'>10</a>\u001b[0m \u001b[39mprint\u001b[39m(\u001b[39m\"\u001b[39m\u001b[39mRows:\u001b[39m\u001b[39m\"\u001b[39m, rows)\n",
      "\u001b[0;31mAttributeError\u001b[0m: 'list' object has no attribute 'to_array'"
     ]
    }
   ],
   "source": [
    "people_matrix = []\n",
    "columns = ['willingness to travel', 'desire for new experience', 'cost', 'indian food', 'mexican food', 'hipster points', 'vegetarian']\n",
    "rows = list(people.keys())\n",
    "\n",
    "for i, person in enumerate(people.values()):\n",
    "    people_matrix.append([i+1] + [person[col] for col in columns])\n",
    "    people_matrix.to_array()\n",
    "\n",
    "print(\"Columns:\", columns)\n",
    "print(\"Rows:\", rows)\n",
    "print(\"Matrix:\", people_matrix)\n"
   ]
  },
  {
   "cell_type": "code",
   "execution_count": 5,
   "metadata": {},
   "outputs": [],
   "source": [
    "restaurants = {\n",
    "    'Flacos': {'distance': 2, 'novelty': 3, 'cost': 2, 'average rating': 4, 'cuisine': 'Mexican', 'vegetarian': True},\n",
    "    'Indian Delight': {'distance': 1, 'novelty': 2, 'cost': 3, 'average rating': 5, 'cuisine': 'Indian', 'vegetarian': True},\n",
    "    'Hipster Café': {'distance': 3, 'novelty': 5, 'cost': 4, 'average rating': 3, 'cuisine': 'Café', 'vegetarian': True},\n",
    "    'Sushi Palace': {'distance': 4, 'novelty': 4, 'cost': 5, 'average rating': 5, 'cuisine': 'Japanese', 'vegetarian': False},\n",
    "    'Steak House': {'distance': 5, 'novelty': 2, 'cost': 5, 'average rating': 4, 'cuisine': 'Steak', 'vegetarian': False},\n",
    "    'Vegetarian Haven': {'distance': 2, 'novelty': 3, 'cost': 2, 'average rating': 5, 'cuisine': 'Vegetarian', 'vegetarian': True},\n",
    "    'Pasta Factory': {'distance': 3, 'novelty': 4, 'cost': 3, 'average rating': 4, 'cuisine': 'Italian', 'vegetarian': False},\n",
    "    'Thai Kitchen': {'distance': 1, 'novelty': 5, 'cost': 2, 'average rating': 5, 'cuisine': 'Thai', 'vegetarian': False},\n",
    "    'BBQ Joint': {'distance': 4, 'novelty': 2, 'cost': 5, 'average rating': 4, 'cuisine': 'BBQ', 'vegetarian': False},\n",
    "    'Mexican Taqueria': {'distance': 5, 'novelty': 3, 'cost': 2, 'average rating': 4, 'cuisine': 'Mexican', 'vegetarian': False}\n",
    "}\n"
   ]
  },
  {
   "cell_type": "code",
   "execution_count": 11,
   "metadata": {},
   "outputs": [
    {
     "name": "stdout",
     "output_type": "stream",
     "text": [
      "Columns: ['distance', 'novelty', 'cost', 'average rating', 'cuisine', 'vegetarian']\n",
      "Rows: ['Flacos', 'Indian Delight', 'Hipster Café', 'Sushi Palace', 'Steak House', 'Vegetarian Haven', 'Pasta Factory', 'Thai Kitchen', 'BBQ Joint', 'Mexican Taqueria']\n",
      "Matrix: [[1, 2, 3, 2, 4, 'Mexican', True], [2, 1, 2, 3, 5, 'Indian', True], [3, 3, 5, 4, 3, 'Café', True], [4, 4, 4, 5, 5, 'Japanese', False], [5, 5, 2, 5, 4, 'Steak', False], [6, 2, 3, 2, 5, 'Vegetarian', True], [7, 3, 4, 3, 4, 'Italian', False], [8, 1, 5, 2, 5, 'Thai', False], [9, 4, 2, 5, 4, 'BBQ', False], [10, 5, 3, 2, 4, 'Mexican', False]]\n"
     ]
    }
   ],
   "source": [
    "restaurant_matrix = []\n",
    "columns = ['distance','novelty','cost','average rating','cuisine','vegetarian']\n",
    "rows = list(restaurants.keys())\n",
    "\n",
    "for i, restaurant in enumerate(restaurants.values()):\n",
    "    restaurant_matrix.append([i+1] + [restaurant[col] for col in columns])\n",
    "\n",
    "print(\"Columns:\", columns)\n",
    "print(\"Rows:\", rows)\n",
    "print(\"Matrix:\", restaurant_matrix)"
   ]
  },
  {
   "cell_type": "code",
   "execution_count": 14,
   "metadata": {},
   "outputs": [
    {
     "data": {
      "text/plain": [
       "list"
      ]
     },
     "execution_count": 14,
     "metadata": {},
     "output_type": "execute_result"
    }
   ],
   "source": [
    "type(people_matrix)"
   ]
  },
  {
   "cell_type": "code",
   "execution_count": 13,
   "metadata": {},
   "outputs": [
    {
     "ename": "AttributeError",
     "evalue": "'list' object has no attribute 'shape'",
     "output_type": "error",
     "traceback": [
      "\u001b[0;31m---------------------------------------------------------------------------\u001b[0m",
      "\u001b[0;31mAttributeError\u001b[0m                            Traceback (most recent call last)",
      "\u001b[1;32m/Users/allen/Desktop/MSDS/ML2/ml2_smu/Homeworks/allen_hoskins_hw3.ipynb Cell 6\u001b[0m in \u001b[0;36m<cell line: 26>\u001b[0;34m()\u001b[0m\n\u001b[1;32m     <a href='vscode-notebook-cell:/Users/allen/Desktop/MSDS/ML2/ml2_smu/Homeworks/allen_hoskins_hw3.ipynb#ch0000005?line=22'>23</a>\u001b[0m     \u001b[39mreturn\u001b[39;00m np\u001b[39m.\u001b[39mdot(matrix1, matrix2)\n\u001b[1;32m     <a href='vscode-notebook-cell:/Users/allen/Desktop/MSDS/ML2/ml2_smu/Homeworks/allen_hoskins_hw3.ipynb#ch0000005?line=24'>25</a>\u001b[0m \u001b[39m# Normalize the matrices\u001b[39;00m\n\u001b[0;32m---> <a href='vscode-notebook-cell:/Users/allen/Desktop/MSDS/ML2/ml2_smu/Homeworks/allen_hoskins_hw3.ipynb#ch0000005?line=25'>26</a>\u001b[0m matrix1_normalized \u001b[39m=\u001b[39m normalize_matrix(people_matrix)\n\u001b[1;32m     <a href='vscode-notebook-cell:/Users/allen/Desktop/MSDS/ML2/ml2_smu/Homeworks/allen_hoskins_hw3.ipynb#ch0000005?line=26'>27</a>\u001b[0m matrix2_normalized \u001b[39m=\u001b[39m normalize_matrix(restaurant_matrix)\n\u001b[1;32m     <a href='vscode-notebook-cell:/Users/allen/Desktop/MSDS/ML2/ml2_smu/Homeworks/allen_hoskins_hw3.ipynb#ch0000005?line=28'>29</a>\u001b[0m \u001b[39m# Calculate the dot product of the normalized matrices\u001b[39;00m\n",
      "\u001b[1;32m/Users/allen/Desktop/MSDS/ML2/ml2_smu/Homeworks/allen_hoskins_hw3.ipynb Cell 6\u001b[0m in \u001b[0;36mnormalize_matrix\u001b[0;34m(matrix)\u001b[0m\n\u001b[1;32m      <a href='vscode-notebook-cell:/Users/allen/Desktop/MSDS/ML2/ml2_smu/Homeworks/allen_hoskins_hw3.ipynb#ch0000005?line=2'>3</a>\u001b[0m \u001b[39mdef\u001b[39;00m \u001b[39mnormalize_matrix\u001b[39m(matrix):\n\u001b[1;32m      <a href='vscode-notebook-cell:/Users/allen/Desktop/MSDS/ML2/ml2_smu/Homeworks/allen_hoskins_hw3.ipynb#ch0000005?line=3'>4</a>\u001b[0m     \u001b[39m# Normalize the matrix so that each value is in the range [0, 1]\u001b[39;00m\n\u001b[0;32m----> <a href='vscode-notebook-cell:/Users/allen/Desktop/MSDS/ML2/ml2_smu/Homeworks/allen_hoskins_hw3.ipynb#ch0000005?line=4'>5</a>\u001b[0m     matrix_normalized \u001b[39m=\u001b[39m np\u001b[39m.\u001b[39mzeros(matrix\u001b[39m.\u001b[39;49mshape)\n\u001b[1;32m      <a href='vscode-notebook-cell:/Users/allen/Desktop/MSDS/ML2/ml2_smu/Homeworks/allen_hoskins_hw3.ipynb#ch0000005?line=5'>6</a>\u001b[0m     \u001b[39mfor\u001b[39;00m i \u001b[39min\u001b[39;00m \u001b[39mrange\u001b[39m(matrix\u001b[39m.\u001b[39mshape[\u001b[39m1\u001b[39m]):\n\u001b[1;32m      <a href='vscode-notebook-cell:/Users/allen/Desktop/MSDS/ML2/ml2_smu/Homeworks/allen_hoskins_hw3.ipynb#ch0000005?line=6'>7</a>\u001b[0m         column \u001b[39m=\u001b[39m matrix[:, i]\n",
      "\u001b[0;31mAttributeError\u001b[0m: 'list' object has no attribute 'shape'"
     ]
    }
   ],
   "source": [
    "import numpy as np\n",
    "\n",
    "def normalize_matrix(matrix):\n",
    "    # Normalize the matrix so that each value is in the range [0, 1]\n",
    "    matrix_normalized = np.zeros(matrix.shape)\n",
    "    for i in range(matrix.shape[1]):\n",
    "        column = matrix[:, i]\n",
    "        column_normalized = (column - np.min(column)) / (np.max(column) - np.min(column))\n",
    "        matrix_normalized[:, i] = column_normalized\n",
    "    return matrix_normalized\n",
    "\n",
    "def dict_to_matrix(dictionary):\n",
    "    # Convert the dictionary to a numpy matrix\n",
    "    matrix = np.zeros((len(dictionary), len(next(iter(dictionary.values())))))\n",
    "    i = 0\n",
    "    for key, value in dictionary.items():\n",
    "        matrix[i, :] = list(value.values())\n",
    "        i += 1\n",
    "    return matrix\n",
    "\n",
    "def dot_product(matrix1, matrix2):\n",
    "    # Calculate the dot product of the two matrices\n",
    "    return np.dot(matrix1, matrix2)\n",
    "\n",
    "# Normalize the matrices\n",
    "matrix1_normalized = normalize_matrix(people_matrix)\n",
    "matrix2_normalized = normalize_matrix(restaurant_matrix)\n",
    "\n",
    "# Calculate the dot product of the normalized matrices\n",
    "result = dot_product(matrix1_normalized, matrix2_normalized.T)\n",
    "\n",
    "print(result)\n"
   ]
  },
  {
   "cell_type": "code",
   "execution_count": 8,
   "metadata": {},
   "outputs": [
    {
     "ename": "KeyError",
     "evalue": "'willingness to travel'",
     "output_type": "error",
     "traceback": [
      "\u001b[0;31m---------------------------------------------------------------------------\u001b[0m",
      "\u001b[0;31mKeyError\u001b[0m                                  Traceback (most recent call last)",
      "\u001b[1;32m/Users/allen/Desktop/MSDS/ML2/ml2_smu/Homeworks/allen_hoskins_hw3.ipynb Cell 7\u001b[0m in \u001b[0;36m<cell line: 1>\u001b[0;34m()\u001b[0m\n\u001b[0;32m----> <a href='vscode-notebook-cell:/Users/allen/Desktop/MSDS/ML2/ml2_smu/Homeworks/allen_hoskins_hw3.ipynb#ch0000006?line=0'>1</a>\u001b[0m mcda(people,restaurants)\n",
      "\u001b[1;32m/Users/allen/Desktop/MSDS/ML2/ml2_smu/Homeworks/allen_hoskins_hw3.ipynb Cell 7\u001b[0m in \u001b[0;36mmcda\u001b[0;34m(people, restaurants)\u001b[0m\n\u001b[1;32m     <a href='vscode-notebook-cell:/Users/allen/Desktop/MSDS/ML2/ml2_smu/Homeworks/allen_hoskins_hw3.ipynb#ch0000006?line=41'>42</a>\u001b[0m weights \u001b[39m=\u001b[39m calculate_weights(criteria_normalized, criteria_importance)\n\u001b[1;32m     <a href='vscode-notebook-cell:/Users/allen/Desktop/MSDS/ML2/ml2_smu/Homeworks/allen_hoskins_hw3.ipynb#ch0000006?line=43'>44</a>\u001b[0m \u001b[39m# Calculate the scores of each restaurant\u001b[39;00m\n\u001b[0;32m---> <a href='vscode-notebook-cell:/Users/allen/Desktop/MSDS/ML2/ml2_smu/Homeworks/allen_hoskins_hw3.ipynb#ch0000006?line=44'>45</a>\u001b[0m scores \u001b[39m=\u001b[39m calculate_scores(restaurants, weights)\n\u001b[1;32m     <a href='vscode-notebook-cell:/Users/allen/Desktop/MSDS/ML2/ml2_smu/Homeworks/allen_hoskins_hw3.ipynb#ch0000006?line=46'>47</a>\u001b[0m \u001b[39m# Choose the restaurant with the highest score\u001b[39;00m\n\u001b[1;32m     <a href='vscode-notebook-cell:/Users/allen/Desktop/MSDS/ML2/ml2_smu/Homeworks/allen_hoskins_hw3.ipynb#ch0000006?line=47'>48</a>\u001b[0m best_restaurant \u001b[39m=\u001b[39m \u001b[39mmax\u001b[39m(scores, key\u001b[39m=\u001b[39mscores\u001b[39m.\u001b[39mget)\n",
      "\u001b[1;32m/Users/allen/Desktop/MSDS/ML2/ml2_smu/Homeworks/allen_hoskins_hw3.ipynb Cell 7\u001b[0m in \u001b[0;36mcalculate_scores\u001b[0;34m(restaurants, weights)\u001b[0m\n\u001b[1;32m     <a href='vscode-notebook-cell:/Users/allen/Desktop/MSDS/ML2/ml2_smu/Homeworks/allen_hoskins_hw3.ipynb#ch0000006?line=28'>29</a>\u001b[0m     score \u001b[39m=\u001b[39m \u001b[39m0\u001b[39m\n\u001b[1;32m     <a href='vscode-notebook-cell:/Users/allen/Desktop/MSDS/ML2/ml2_smu/Homeworks/allen_hoskins_hw3.ipynb#ch0000006?line=29'>30</a>\u001b[0m     \u001b[39mfor\u001b[39;00m criterion \u001b[39min\u001b[39;00m weights:\n\u001b[0;32m---> <a href='vscode-notebook-cell:/Users/allen/Desktop/MSDS/ML2/ml2_smu/Homeworks/allen_hoskins_hw3.ipynb#ch0000006?line=30'>31</a>\u001b[0m         score \u001b[39m+\u001b[39m\u001b[39m=\u001b[39m restaurants[restaurant][criterion] \u001b[39m*\u001b[39m weights[criterion]\n\u001b[1;32m     <a href='vscode-notebook-cell:/Users/allen/Desktop/MSDS/ML2/ml2_smu/Homeworks/allen_hoskins_hw3.ipynb#ch0000006?line=31'>32</a>\u001b[0m     scores[restaurant] \u001b[39m=\u001b[39m score\n\u001b[1;32m     <a href='vscode-notebook-cell:/Users/allen/Desktop/MSDS/ML2/ml2_smu/Homeworks/allen_hoskins_hw3.ipynb#ch0000006?line=32'>33</a>\u001b[0m \u001b[39mreturn\u001b[39;00m scores\n",
      "\u001b[0;31mKeyError\u001b[0m: 'willingness to travel'"
     ]
    }
   ],
   "source": [
    "mcda(people,restaurants)"
   ]
  }
 ],
 "metadata": {
  "kernelspec": {
   "display_name": "Python 3.9.13 ('ML1')",
   "language": "python",
   "name": "python3"
  },
  "language_info": {
   "codemirror_mode": {
    "name": "ipython",
    "version": 3
   },
   "file_extension": ".py",
   "mimetype": "text/x-python",
   "name": "python",
   "nbconvert_exporter": "python",
   "pygments_lexer": "ipython3",
   "version": "3.9.13"
  },
  "orig_nbformat": 4,
  "vscode": {
   "interpreter": {
    "hash": "3121556d4473c412f0595648b5a85484255f0878c67145bad0a6023335311018"
   }
  }
 },
 "nbformat": 4,
 "nbformat_minor": 2
}
