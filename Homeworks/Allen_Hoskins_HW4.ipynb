{
 "cells": [
  {
   "cell_type": "code",
   "execution_count": null,
   "metadata": {},
   "outputs": [],
   "source": [
    "Transfer Learning Homework \n",
    "\n",
    "Below you see a tutorial from Keras on using transfer learning. They train their models on half  the MNIST dataset digits (i.e. digits 0-4) and “transfer” the model to the second half (i.e, digits 5-9). \n",
    "\n",
    "Your homework is to train on all digits and make your own handwritten data set of the 5 characters {A, B, C, D, E}  and “transfer” your MNIST trained model over to the dataset you created. In other words, train on the full MNIST datasets (i.e. digits 0-9) and transfer on the {A, B, C, D, E} image dataset. \n",
    "\n",
    "Please do not use any other data resources from the web such as the emnist dataset. Figuring out the challenges of making your own handwritten character dataset is part of the exercise for this homework!   \n",
    "\n",
    "Include the images you generated as part of your submission. Include any code used for the character image preprocessing. In a README file include details on your data generation process.\n",
    "\n",
    "Code source: https://github.com/awslabs/keras-apache-mxnet/blob/master/examples/mnist_transfer_cnn.py\n"
   ]
  },
  {
   "cell_type": "code",
   "execution_count": 19,
   "metadata": {},
   "outputs": [
    {
     "name": "stdout",
     "output_type": "stream",
     "text": [
      "x_train shape: (30596, 28, 28, 1)\n",
      "30596 train samples\n",
      "5139 test samples\n",
      "Epoch 1/5\n"
     ]
    },
    {
     "name": "stderr",
     "output_type": "stream",
     "text": [
      "2023-02-21 22:41:06.096445: I tensorflow/core/grappler/optimizers/custom_graph_optimizer_registry.cc:114] Plugin optimizer for device_type GPU is enabled.\n",
      "2023-02-21 22:41:06.230739: W tensorflow/core/framework/op_kernel.cc:1830] OP_REQUIRES failed at xla_ops.cc:418 : NOT_FOUND: could not find registered platform with id: 0x1777aa110\n",
      "2023-02-21 22:41:06.230770: W tensorflow/core/framework/op_kernel.cc:1830] OP_REQUIRES failed at xla_ops.cc:418 : NOT_FOUND: could not find registered platform with id: 0x1777aa110\n",
      "2023-02-21 22:41:06.238695: W tensorflow/core/framework/op_kernel.cc:1830] OP_REQUIRES failed at xla_ops.cc:418 : NOT_FOUND: could not find registered platform with id: 0x1777aa110\n",
      "2023-02-21 22:41:06.238726: W tensorflow/core/framework/op_kernel.cc:1830] OP_REQUIRES failed at xla_ops.cc:418 : NOT_FOUND: could not find registered platform with id: 0x1777aa110\n",
      "2023-02-21 22:41:06.254557: W tensorflow/core/framework/op_kernel.cc:1830] OP_REQUIRES failed at xla_ops.cc:418 : NOT_FOUND: could not find registered platform with id: 0x1777aa110\n",
      "2023-02-21 22:41:06.254584: W tensorflow/core/framework/op_kernel.cc:1830] OP_REQUIRES failed at xla_ops.cc:418 : NOT_FOUND: could not find registered platform with id: 0x1777aa110\n",
      "2023-02-21 22:41:06.258190: W tensorflow/core/framework/op_kernel.cc:1830] OP_REQUIRES failed at xla_ops.cc:418 : NOT_FOUND: could not find registered platform with id: 0x1777aa110\n",
      "2023-02-21 22:41:06.258211: W tensorflow/core/framework/op_kernel.cc:1830] OP_REQUIRES failed at xla_ops.cc:418 : NOT_FOUND: could not find registered platform with id: 0x1777aa110\n"
     ]
    },
    {
     "ename": "NotFoundError",
     "evalue": "Graph execution error:\n\nDetected at node 'StatefulPartitionedCall_6' defined at (most recent call last):\n    File \"/opt/homebrew/Cellar/python@3.9/3.9.13_1/Frameworks/Python.framework/Versions/3.9/lib/python3.9/runpy.py\", line 197, in _run_module_as_main\n      return _run_code(code, main_globals, None,\n    File \"/opt/homebrew/Cellar/python@3.9/3.9.13_1/Frameworks/Python.framework/Versions/3.9/lib/python3.9/runpy.py\", line 87, in _run_code\n      exec(code, run_globals)\n    File \"/Users/allen/virtualenvs/ML1/lib/python3.9/site-packages/ipykernel_launcher.py\", line 17, in <module>\n      app.launch_new_instance()\n    File \"/Users/allen/virtualenvs/ML1/lib/python3.9/site-packages/traitlets/config/application.py\", line 976, in launch_instance\n      app.start()\n    File \"/Users/allen/virtualenvs/ML1/lib/python3.9/site-packages/ipykernel/kernelapp.py\", line 712, in start\n      self.io_loop.start()\n    File \"/Users/allen/virtualenvs/ML1/lib/python3.9/site-packages/tornado/platform/asyncio.py\", line 215, in start\n      self.asyncio_loop.run_forever()\n    File \"/opt/homebrew/Cellar/python@3.9/3.9.13_1/Frameworks/Python.framework/Versions/3.9/lib/python3.9/asyncio/base_events.py\", line 601, in run_forever\n      self._run_once()\n    File \"/opt/homebrew/Cellar/python@3.9/3.9.13_1/Frameworks/Python.framework/Versions/3.9/lib/python3.9/asyncio/base_events.py\", line 1905, in _run_once\n      handle._run()\n    File \"/opt/homebrew/Cellar/python@3.9/3.9.13_1/Frameworks/Python.framework/Versions/3.9/lib/python3.9/asyncio/events.py\", line 80, in _run\n      self._context.run(self._callback, *self._args)\n    File \"/Users/allen/virtualenvs/ML1/lib/python3.9/site-packages/ipykernel/kernelbase.py\", line 510, in dispatch_queue\n      await self.process_one()\n    File \"/Users/allen/virtualenvs/ML1/lib/python3.9/site-packages/ipykernel/kernelbase.py\", line 499, in process_one\n      await dispatch(*args)\n    File \"/Users/allen/virtualenvs/ML1/lib/python3.9/site-packages/ipykernel/kernelbase.py\", line 406, in dispatch_shell\n      await result\n    File \"/Users/allen/virtualenvs/ML1/lib/python3.9/site-packages/ipykernel/kernelbase.py\", line 730, in execute_request\n      reply_content = await reply_content\n    File \"/Users/allen/virtualenvs/ML1/lib/python3.9/site-packages/ipykernel/ipkernel.py\", line 383, in do_execute\n      res = shell.run_cell(\n    File \"/Users/allen/virtualenvs/ML1/lib/python3.9/site-packages/ipykernel/zmqshell.py\", line 528, in run_cell\n      return super().run_cell(*args, **kwargs)\n    File \"/Users/allen/virtualenvs/ML1/lib/python3.9/site-packages/IPython/core/interactiveshell.py\", line 2881, in run_cell\n      result = self._run_cell(\n    File \"/Users/allen/virtualenvs/ML1/lib/python3.9/site-packages/IPython/core/interactiveshell.py\", line 2936, in _run_cell\n      return runner(coro)\n    File \"/Users/allen/virtualenvs/ML1/lib/python3.9/site-packages/IPython/core/async_helpers.py\", line 129, in _pseudo_sync_runner\n      coro.send(None)\n    File \"/Users/allen/virtualenvs/ML1/lib/python3.9/site-packages/IPython/core/interactiveshell.py\", line 3135, in run_cell_async\n      has_raised = await self.run_ast_nodes(code_ast.body, cell_name,\n    File \"/Users/allen/virtualenvs/ML1/lib/python3.9/site-packages/IPython/core/interactiveshell.py\", line 3338, in run_ast_nodes\n      if await self.run_code(code, result, async_=asy):\n    File \"/Users/allen/virtualenvs/ML1/lib/python3.9/site-packages/IPython/core/interactiveshell.py\", line 3398, in run_code\n      exec(code_obj, self.user_global_ns, self.user_ns)\n    File \"/var/folders/cn/_lgzxbk177j14_b82nbl10br0000gn/T/ipykernel_12928/3214053905.py\", line 86, in <cell line: 86>\n      train_model(model,\n    File \"/var/folders/cn/_lgzxbk177j14_b82nbl10br0000gn/T/ipykernel_12928/3214053905.py\", line 39, in train_model\n      model.fit(x_train, y_train,\n    File \"/Users/allen/virtualenvs/ML1/lib/python3.9/site-packages/keras/utils/traceback_utils.py\", line 65, in error_handler\n      return fn(*args, **kwargs)\n    File \"/Users/allen/virtualenvs/ML1/lib/python3.9/site-packages/keras/engine/training.py\", line 1650, in fit\n    File \"/Users/allen/virtualenvs/ML1/lib/python3.9/site-packages/keras/engine/training.py\", line 1249, in train_function\n      `(inputs, targets, sample_weights)`.\n    File \"/Users/allen/virtualenvs/ML1/lib/python3.9/site-packages/keras/engine/training.py\", line 1233, in step_function\n      max_queue_size=10,\n    File \"/Users/allen/virtualenvs/ML1/lib/python3.9/site-packages/keras/engine/training.py\", line 1222, in run_step\n      callbacks=None,\n    File \"/Users/allen/virtualenvs/ML1/lib/python3.9/site-packages/keras/engine/training.py\", line 1027, in train_step\n      tensors = tf.random.uniform((10, 10)), tf.random.uniform((10,))\n    File \"/Users/allen/virtualenvs/ML1/lib/python3.9/site-packages/keras/optimizers/optimizer_experimental/optimizer.py\", line 527, in minimize\n    File \"/Users/allen/virtualenvs/ML1/lib/python3.9/site-packages/keras/optimizers/optimizer_experimental/optimizer.py\", line 1140, in apply_gradients\n    File \"/Users/allen/virtualenvs/ML1/lib/python3.9/site-packages/keras/optimizers/optimizer_experimental/optimizer.py\", line 634, in apply_gradients\n      Args:\n    File \"/Users/allen/virtualenvs/ML1/lib/python3.9/site-packages/keras/optimizers/optimizer_experimental/optimizer.py\", line 1166, in _internal_apply_gradients\n    File \"/Users/allen/virtualenvs/ML1/lib/python3.9/site-packages/keras/optimizers/optimizer_experimental/optimizer.py\", line 1216, in _distributed_apply_gradients_fn\n    File \"/Users/allen/virtualenvs/ML1/lib/python3.9/site-packages/keras/optimizers/optimizer_experimental/optimizer.py\", line 1211, in apply_grad_to_update_var\nNode: 'StatefulPartitionedCall_6'\ncould not find registered platform with id: 0x1777aa110\n\t [[{{node StatefulPartitionedCall_6}}]] [Op:__inference_train_function_3601]",
     "output_type": "error",
     "traceback": [
      "\u001b[0;31m---------------------------------------------------------------------------\u001b[0m",
      "\u001b[0;31mNotFoundError\u001b[0m                             Traceback (most recent call last)",
      "\u001b[1;32m/Users/allen/Desktop/MSDS/ML2/ml2_smu/Homeworks/Allen_Hoskins_HW4.ipynb Cell 2\u001b[0m in \u001b[0;36m<cell line: 86>\u001b[0;34m()\u001b[0m\n\u001b[1;32m     <a href='vscode-notebook-cell:/Users/allen/Desktop/MSDS/ML2/ml2_smu/Homeworks/Allen_Hoskins_HW4.ipynb#ch0000001?line=82'>83</a>\u001b[0m model \u001b[39m=\u001b[39m Sequential(feature_layers \u001b[39m+\u001b[39m classification_layers)\n\u001b[1;32m     <a href='vscode-notebook-cell:/Users/allen/Desktop/MSDS/ML2/ml2_smu/Homeworks/Allen_Hoskins_HW4.ipynb#ch0000001?line=84'>85</a>\u001b[0m \u001b[39m# train model for 5-digit classification [0..4]\u001b[39;00m\n\u001b[0;32m---> <a href='vscode-notebook-cell:/Users/allen/Desktop/MSDS/ML2/ml2_smu/Homeworks/Allen_Hoskins_HW4.ipynb#ch0000001?line=85'>86</a>\u001b[0m train_model(model,\n\u001b[1;32m     <a href='vscode-notebook-cell:/Users/allen/Desktop/MSDS/ML2/ml2_smu/Homeworks/Allen_Hoskins_HW4.ipynb#ch0000001?line=86'>87</a>\u001b[0m             (x_train_lt5, y_train_lt5),\n\u001b[1;32m     <a href='vscode-notebook-cell:/Users/allen/Desktop/MSDS/ML2/ml2_smu/Homeworks/Allen_Hoskins_HW4.ipynb#ch0000001?line=87'>88</a>\u001b[0m             (x_test_lt5, y_test_lt5), num_classes)\n\u001b[1;32m     <a href='vscode-notebook-cell:/Users/allen/Desktop/MSDS/ML2/ml2_smu/Homeworks/Allen_Hoskins_HW4.ipynb#ch0000001?line=89'>90</a>\u001b[0m \u001b[39m# freeze feature layers and rebuild model\u001b[39;00m\n\u001b[1;32m     <a href='vscode-notebook-cell:/Users/allen/Desktop/MSDS/ML2/ml2_smu/Homeworks/Allen_Hoskins_HW4.ipynb#ch0000001?line=90'>91</a>\u001b[0m \u001b[39mfor\u001b[39;00m l \u001b[39min\u001b[39;00m feature_layers:\n",
      "\u001b[1;32m/Users/allen/Desktop/MSDS/ML2/ml2_smu/Homeworks/Allen_Hoskins_HW4.ipynb Cell 2\u001b[0m in \u001b[0;36mtrain_model\u001b[0;34m(model, train, test, num_classes)\u001b[0m\n\u001b[1;32m     <a href='vscode-notebook-cell:/Users/allen/Desktop/MSDS/ML2/ml2_smu/Homeworks/Allen_Hoskins_HW4.ipynb#ch0000001?line=34'>35</a>\u001b[0m model\u001b[39m.\u001b[39mcompile(loss\u001b[39m=\u001b[39m\u001b[39m'\u001b[39m\u001b[39mcategorical_crossentropy\u001b[39m\u001b[39m'\u001b[39m,\n\u001b[1;32m     <a href='vscode-notebook-cell:/Users/allen/Desktop/MSDS/ML2/ml2_smu/Homeworks/Allen_Hoskins_HW4.ipynb#ch0000001?line=35'>36</a>\u001b[0m               optimizer\u001b[39m=\u001b[39m\u001b[39m'\u001b[39m\u001b[39madadelta\u001b[39m\u001b[39m'\u001b[39m,\n\u001b[1;32m     <a href='vscode-notebook-cell:/Users/allen/Desktop/MSDS/ML2/ml2_smu/Homeworks/Allen_Hoskins_HW4.ipynb#ch0000001?line=36'>37</a>\u001b[0m               metrics\u001b[39m=\u001b[39m[\u001b[39m'\u001b[39m\u001b[39maccuracy\u001b[39m\u001b[39m'\u001b[39m])\n\u001b[1;32m     <a href='vscode-notebook-cell:/Users/allen/Desktop/MSDS/ML2/ml2_smu/Homeworks/Allen_Hoskins_HW4.ipynb#ch0000001?line=37'>38</a>\u001b[0m t \u001b[39m=\u001b[39m now()\n\u001b[0;32m---> <a href='vscode-notebook-cell:/Users/allen/Desktop/MSDS/ML2/ml2_smu/Homeworks/Allen_Hoskins_HW4.ipynb#ch0000001?line=38'>39</a>\u001b[0m model\u001b[39m.\u001b[39;49mfit(x_train, y_train,\n\u001b[1;32m     <a href='vscode-notebook-cell:/Users/allen/Desktop/MSDS/ML2/ml2_smu/Homeworks/Allen_Hoskins_HW4.ipynb#ch0000001?line=39'>40</a>\u001b[0m           batch_size\u001b[39m=\u001b[39;49mbatch_size,\n\u001b[1;32m     <a href='vscode-notebook-cell:/Users/allen/Desktop/MSDS/ML2/ml2_smu/Homeworks/Allen_Hoskins_HW4.ipynb#ch0000001?line=40'>41</a>\u001b[0m           epochs\u001b[39m=\u001b[39;49mepochs,\n\u001b[1;32m     <a href='vscode-notebook-cell:/Users/allen/Desktop/MSDS/ML2/ml2_smu/Homeworks/Allen_Hoskins_HW4.ipynb#ch0000001?line=41'>42</a>\u001b[0m           verbose\u001b[39m=\u001b[39;49m\u001b[39m1\u001b[39;49m,\n\u001b[1;32m     <a href='vscode-notebook-cell:/Users/allen/Desktop/MSDS/ML2/ml2_smu/Homeworks/Allen_Hoskins_HW4.ipynb#ch0000001?line=42'>43</a>\u001b[0m           validation_data\u001b[39m=\u001b[39;49m(x_test, y_test))\n\u001b[1;32m     <a href='vscode-notebook-cell:/Users/allen/Desktop/MSDS/ML2/ml2_smu/Homeworks/Allen_Hoskins_HW4.ipynb#ch0000001?line=43'>44</a>\u001b[0m \u001b[39mprint\u001b[39m(\u001b[39m'\u001b[39m\u001b[39mTraining time: \u001b[39m\u001b[39m%s\u001b[39;00m\u001b[39m'\u001b[39m \u001b[39m%\u001b[39m (now() \u001b[39m-\u001b[39m t))\n\u001b[1;32m     <a href='vscode-notebook-cell:/Users/allen/Desktop/MSDS/ML2/ml2_smu/Homeworks/Allen_Hoskins_HW4.ipynb#ch0000001?line=44'>45</a>\u001b[0m score \u001b[39m=\u001b[39m model\u001b[39m.\u001b[39mevaluate(x_test, y_test, verbose\u001b[39m=\u001b[39m\u001b[39m0\u001b[39m)\n",
      "File \u001b[0;32m~/virtualenvs/ML1/lib/python3.9/site-packages/keras/utils/traceback_utils.py:70\u001b[0m, in \u001b[0;36mfilter_traceback.<locals>.error_handler\u001b[0;34m(*args, **kwargs)\u001b[0m\n\u001b[1;32m     67\u001b[0m     filtered_tb \u001b[39m=\u001b[39m _process_traceback_frames(e\u001b[39m.\u001b[39m__traceback__)\n\u001b[1;32m     68\u001b[0m     \u001b[39m# To get the full stack trace, call:\u001b[39;00m\n\u001b[1;32m     69\u001b[0m     \u001b[39m# `tf.debugging.disable_traceback_filtering()`\u001b[39;00m\n\u001b[0;32m---> 70\u001b[0m     \u001b[39mraise\u001b[39;00m e\u001b[39m.\u001b[39mwith_traceback(filtered_tb) \u001b[39mfrom\u001b[39;00m \u001b[39mNone\u001b[39m\n\u001b[1;32m     71\u001b[0m \u001b[39mfinally\u001b[39;00m:\n\u001b[1;32m     72\u001b[0m     \u001b[39mdel\u001b[39;00m filtered_tb\n",
      "File \u001b[0;32m~/virtualenvs/ML1/lib/python3.9/site-packages/tensorflow/python/eager/execute.py:52\u001b[0m, in \u001b[0;36mquick_execute\u001b[0;34m(op_name, num_outputs, inputs, attrs, ctx, name)\u001b[0m\n\u001b[1;32m     50\u001b[0m \u001b[39mtry\u001b[39;00m:\n\u001b[1;32m     51\u001b[0m   ctx\u001b[39m.\u001b[39mensure_initialized()\n\u001b[0;32m---> 52\u001b[0m   tensors \u001b[39m=\u001b[39m pywrap_tfe\u001b[39m.\u001b[39mTFE_Py_Execute(ctx\u001b[39m.\u001b[39m_handle, device_name, op_name,\n\u001b[1;32m     53\u001b[0m                                       inputs, attrs, num_outputs)\n\u001b[1;32m     54\u001b[0m \u001b[39mexcept\u001b[39;00m core\u001b[39m.\u001b[39m_NotOkStatusException \u001b[39mas\u001b[39;00m e:\n\u001b[1;32m     55\u001b[0m   \u001b[39mif\u001b[39;00m name \u001b[39mis\u001b[39;00m \u001b[39mnot\u001b[39;00m \u001b[39mNone\u001b[39;00m:\n",
      "\u001b[0;31mNotFoundError\u001b[0m: Graph execution error:\n\nDetected at node 'StatefulPartitionedCall_6' defined at (most recent call last):\n    File \"/opt/homebrew/Cellar/python@3.9/3.9.13_1/Frameworks/Python.framework/Versions/3.9/lib/python3.9/runpy.py\", line 197, in _run_module_as_main\n      return _run_code(code, main_globals, None,\n    File \"/opt/homebrew/Cellar/python@3.9/3.9.13_1/Frameworks/Python.framework/Versions/3.9/lib/python3.9/runpy.py\", line 87, in _run_code\n      exec(code, run_globals)\n    File \"/Users/allen/virtualenvs/ML1/lib/python3.9/site-packages/ipykernel_launcher.py\", line 17, in <module>\n      app.launch_new_instance()\n    File \"/Users/allen/virtualenvs/ML1/lib/python3.9/site-packages/traitlets/config/application.py\", line 976, in launch_instance\n      app.start()\n    File \"/Users/allen/virtualenvs/ML1/lib/python3.9/site-packages/ipykernel/kernelapp.py\", line 712, in start\n      self.io_loop.start()\n    File \"/Users/allen/virtualenvs/ML1/lib/python3.9/site-packages/tornado/platform/asyncio.py\", line 215, in start\n      self.asyncio_loop.run_forever()\n    File \"/opt/homebrew/Cellar/python@3.9/3.9.13_1/Frameworks/Python.framework/Versions/3.9/lib/python3.9/asyncio/base_events.py\", line 601, in run_forever\n      self._run_once()\n    File \"/opt/homebrew/Cellar/python@3.9/3.9.13_1/Frameworks/Python.framework/Versions/3.9/lib/python3.9/asyncio/base_events.py\", line 1905, in _run_once\n      handle._run()\n    File \"/opt/homebrew/Cellar/python@3.9/3.9.13_1/Frameworks/Python.framework/Versions/3.9/lib/python3.9/asyncio/events.py\", line 80, in _run\n      self._context.run(self._callback, *self._args)\n    File \"/Users/allen/virtualenvs/ML1/lib/python3.9/site-packages/ipykernel/kernelbase.py\", line 510, in dispatch_queue\n      await self.process_one()\n    File \"/Users/allen/virtualenvs/ML1/lib/python3.9/site-packages/ipykernel/kernelbase.py\", line 499, in process_one\n      await dispatch(*args)\n    File \"/Users/allen/virtualenvs/ML1/lib/python3.9/site-packages/ipykernel/kernelbase.py\", line 406, in dispatch_shell\n      await result\n    File \"/Users/allen/virtualenvs/ML1/lib/python3.9/site-packages/ipykernel/kernelbase.py\", line 730, in execute_request\n      reply_content = await reply_content\n    File \"/Users/allen/virtualenvs/ML1/lib/python3.9/site-packages/ipykernel/ipkernel.py\", line 383, in do_execute\n      res = shell.run_cell(\n    File \"/Users/allen/virtualenvs/ML1/lib/python3.9/site-packages/ipykernel/zmqshell.py\", line 528, in run_cell\n      return super().run_cell(*args, **kwargs)\n    File \"/Users/allen/virtualenvs/ML1/lib/python3.9/site-packages/IPython/core/interactiveshell.py\", line 2881, in run_cell\n      result = self._run_cell(\n    File \"/Users/allen/virtualenvs/ML1/lib/python3.9/site-packages/IPython/core/interactiveshell.py\", line 2936, in _run_cell\n      return runner(coro)\n    File \"/Users/allen/virtualenvs/ML1/lib/python3.9/site-packages/IPython/core/async_helpers.py\", line 129, in _pseudo_sync_runner\n      coro.send(None)\n    File \"/Users/allen/virtualenvs/ML1/lib/python3.9/site-packages/IPython/core/interactiveshell.py\", line 3135, in run_cell_async\n      has_raised = await self.run_ast_nodes(code_ast.body, cell_name,\n    File \"/Users/allen/virtualenvs/ML1/lib/python3.9/site-packages/IPython/core/interactiveshell.py\", line 3338, in run_ast_nodes\n      if await self.run_code(code, result, async_=asy):\n    File \"/Users/allen/virtualenvs/ML1/lib/python3.9/site-packages/IPython/core/interactiveshell.py\", line 3398, in run_code\n      exec(code_obj, self.user_global_ns, self.user_ns)\n    File \"/var/folders/cn/_lgzxbk177j14_b82nbl10br0000gn/T/ipykernel_12928/3214053905.py\", line 86, in <cell line: 86>\n      train_model(model,\n    File \"/var/folders/cn/_lgzxbk177j14_b82nbl10br0000gn/T/ipykernel_12928/3214053905.py\", line 39, in train_model\n      model.fit(x_train, y_train,\n    File \"/Users/allen/virtualenvs/ML1/lib/python3.9/site-packages/keras/utils/traceback_utils.py\", line 65, in error_handler\n      return fn(*args, **kwargs)\n    File \"/Users/allen/virtualenvs/ML1/lib/python3.9/site-packages/keras/engine/training.py\", line 1650, in fit\n    File \"/Users/allen/virtualenvs/ML1/lib/python3.9/site-packages/keras/engine/training.py\", line 1249, in train_function\n      `(inputs, targets, sample_weights)`.\n    File \"/Users/allen/virtualenvs/ML1/lib/python3.9/site-packages/keras/engine/training.py\", line 1233, in step_function\n      max_queue_size=10,\n    File \"/Users/allen/virtualenvs/ML1/lib/python3.9/site-packages/keras/engine/training.py\", line 1222, in run_step\n      callbacks=None,\n    File \"/Users/allen/virtualenvs/ML1/lib/python3.9/site-packages/keras/engine/training.py\", line 1027, in train_step\n      tensors = tf.random.uniform((10, 10)), tf.random.uniform((10,))\n    File \"/Users/allen/virtualenvs/ML1/lib/python3.9/site-packages/keras/optimizers/optimizer_experimental/optimizer.py\", line 527, in minimize\n    File \"/Users/allen/virtualenvs/ML1/lib/python3.9/site-packages/keras/optimizers/optimizer_experimental/optimizer.py\", line 1140, in apply_gradients\n    File \"/Users/allen/virtualenvs/ML1/lib/python3.9/site-packages/keras/optimizers/optimizer_experimental/optimizer.py\", line 634, in apply_gradients\n      Args:\n    File \"/Users/allen/virtualenvs/ML1/lib/python3.9/site-packages/keras/optimizers/optimizer_experimental/optimizer.py\", line 1166, in _internal_apply_gradients\n    File \"/Users/allen/virtualenvs/ML1/lib/python3.9/site-packages/keras/optimizers/optimizer_experimental/optimizer.py\", line 1216, in _distributed_apply_gradients_fn\n    File \"/Users/allen/virtualenvs/ML1/lib/python3.9/site-packages/keras/optimizers/optimizer_experimental/optimizer.py\", line 1211, in apply_grad_to_update_var\nNode: 'StatefulPartitionedCall_6'\ncould not find registered platform with id: 0x1777aa110\n\t [[{{node StatefulPartitionedCall_6}}]] [Op:__inference_train_function_3601]"
     ]
    }
   ],
   "source": [
    "from __future__ import print_function\n",
    "import datetime\n",
    "from tensorflow import keras\n",
    "from tensorflow.keras.datasets import mnist\n",
    "from tensorflow.keras.models import Sequential\n",
    "from tensorflow.keras.layers import Dense, Dropout, Activation, Flatten,  Conv2D, MaxPooling2D\n",
    "from tensorflow.keras import backend as K\n",
    "\n",
    "now = datetime.datetime.now\n",
    "batch_size = 128\n",
    "num_classes = 5\n",
    "epochs = 5\n",
    "img_rows, img_cols = 28, 28\n",
    "filters = 32\n",
    "pool_size = 2\n",
    "kernel_size = 3\n",
    "if K.image_data_format() == 'channels_first':\n",
    "    input_shape = (1, img_rows, img_cols)\n",
    "else:\n",
    "    input_shape = (img_rows, img_cols, 1)\n",
    "\n",
    "def train_model(model, train, test, num_classes):\n",
    "    x_train = train[0].reshape((train[0].shape[0],) + input_shape)\n",
    "    x_test = test[0].reshape((test[0].shape[0],) + input_shape)\n",
    "    x_train = x_train.astype('float32')\n",
    "    x_test = x_test.astype('float32')\n",
    "    x_train /= 255\n",
    "    x_test /= 255\n",
    "    print('x_train shape:', x_train.shape)\n",
    "    print(x_train.shape[0], 'train samples')\n",
    "    print(x_test.shape[0], 'test samples')\n",
    "    # convert class vectors to binary class matrices\n",
    "    y_train = keras.utils.to_categorical(train[1], num_classes)\n",
    "    y_test = keras.utils.to_categorical(test[1], num_classes)\n",
    "    model.compile(loss='categorical_crossentropy',\n",
    "                  optimizer='adadelta',\n",
    "                  metrics=['accuracy'])\n",
    "    t = now()\n",
    "    model.fit(x_train, y_train,\n",
    "              batch_size=batch_size,\n",
    "              epochs=epochs,\n",
    "              verbose=1,\n",
    "              validation_data=(x_test, y_test))\n",
    "    print('Training time: %s' % (now() - t))\n",
    "    score = model.evaluate(x_test, y_test, verbose=0)\n",
    "    print('Test score:', score[0])\n",
    "    print('Test accuracy:', score[1])\n",
    "\n",
    "(x_train, y_train), (x_test, y_test) = mnist.load_data()\n",
    "x_train_lt5 = x_train[y_train < 5]\n",
    "y_train_lt5 = y_train[y_train < 5]\n",
    "x_test_lt5 = x_test[y_test < 5]\n",
    "y_test_lt5 = y_test[y_test < 5]\n",
    "x_train_gte5 = x_train[y_train >= 5]\n",
    "y_train_gte5 = y_train[y_train >= 5] - 5\n",
    "x_test_gte5 = x_test[y_test >= 5]\n",
    "y_test_gte5 = y_test[y_test >= 5] - 5\n",
    "\n",
    "\n",
    "\n",
    "\n",
    "feature_layers = [\n",
    "    Conv2D(filters, kernel_size,\n",
    "           padding='valid',\n",
    "           input_shape=input_shape),\n",
    "    Activation('relu'),\n",
    "    Conv2D(filters, kernel_size),\n",
    "    Activation('relu'),\n",
    "    MaxPooling2D(pool_size=pool_size),\n",
    "    Dropout(0.25),\n",
    "    Flatten(),\n",
    "]\n",
    "\n",
    "classification_layers = [\n",
    "    Dense(128),\n",
    "    Activation('relu'),\n",
    "    Dropout(0.5),\n",
    "    Dense(num_classes),\n",
    "    Activation('softmax')\n",
    "]\n",
    "\n",
    "# create complete model\n",
    "model = Sequential(feature_layers + classification_layers)\n",
    "\n",
    "# train model for 5-digit classification [0..4]\n",
    "train_model(model,\n",
    "            (x_train_lt5, y_train_lt5),\n",
    "            (x_test_lt5, y_test_lt5), num_classes)\n",
    "\n",
    "# freeze feature layers and rebuild model\n",
    "for l in feature_layers:\n",
    "    l.trainable = False\n",
    "\n",
    "# transfer step: train dense layers for new classification task [5..9]\n",
    "train_model(model,\n",
    "            (x_train_gte5, y_train_gte5),\n",
    "            (x_test_gte5, y_test_gte5), num_classes)\n",
    "\n"
   ]
  },
  {
   "cell_type": "code",
   "execution_count": null,
   "metadata": {},
   "outputs": [],
   "source": []
  }
 ],
 "metadata": {
  "kernelspec": {
   "display_name": "Python 3.9.13 ('ML1')",
   "language": "python",
   "name": "python3"
  },
  "language_info": {
   "codemirror_mode": {
    "name": "ipython",
    "version": 3
   },
   "file_extension": ".py",
   "mimetype": "text/x-python",
   "name": "python",
   "nbconvert_exporter": "python",
   "pygments_lexer": "ipython3",
   "version": "3.9.13"
  },
  "orig_nbformat": 4,
  "vscode": {
   "interpreter": {
    "hash": "3121556d4473c412f0595648b5a85484255f0878c67145bad0a6023335311018"
   }
  }
 },
 "nbformat": 4,
 "nbformat_minor": 2
}
