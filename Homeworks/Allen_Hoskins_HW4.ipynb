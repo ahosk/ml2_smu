{
 "cells": [
  {
   "cell_type": "code",
   "execution_count": null,
   "metadata": {},
   "outputs": [],
   "source": [
    "Transfer Learning Homework \n",
    "\n",
    "Below you see a tutorial from Keras on using transfer learning. They train their models on half  the MNIST dataset digits (i.e. digits 0-4) and “transfer” the model to the second half (i.e, digits 5-9). \n",
    "\n",
    "Your homework is to train on all digits and make your own handwritten data set of the 5 characters {A, B, C, D, E}  and “transfer” your MNIST trained model over to the dataset you created. In other words, train on the full MNIST datasets (i.e. digits 0-9) and transfer on the {A, B, C, D, E} image dataset. \n",
    "\n",
    "Please do not use any other data resources from the web such as the emnist dataset. Figuring out the challenges of making your own handwritten character dataset is part of the exercise for this homework!   \n",
    "\n",
    "Include the images you generated as part of your submission. Include any code used for the character image preprocessing. In a README file include details on your data generation process.\n",
    "\n",
    "Code source: https://github.com/awslabs/keras-apache-mxnet/blob/master/examples/mnist_transfer_cnn.py\n"
   ]
  },
  {
   "cell_type": "code",
   "execution_count": 37,
   "metadata": {},
   "outputs": [
    {
     "name": "stdout",
     "output_type": "stream",
     "text": [
      "x_train shape: (60000, 28, 28, 1)\n",
      "60000 train samples\n",
      "10000 test samples\n",
      "Epoch 1/5\n"
     ]
    },
    {
     "name": "stderr",
     "output_type": "stream",
     "text": [
      "2023-03-05 15:12:19.888044: I tensorflow/core/grappler/optimizers/custom_graph_optimizer_registry.cc:114] Plugin optimizer for device_type GPU is enabled.\n"
     ]
    },
    {
     "name": "stdout",
     "output_type": "stream",
     "text": [
      "469/469 [==============================] - ETA: 0s - loss: 2.2983 - accuracy: 0.1267"
     ]
    },
    {
     "name": "stderr",
     "output_type": "stream",
     "text": [
      "2023-03-05 15:12:28.816005: I tensorflow/core/grappler/optimizers/custom_graph_optimizer_registry.cc:114] Plugin optimizer for device_type GPU is enabled.\n"
     ]
    },
    {
     "name": "stdout",
     "output_type": "stream",
     "text": [
      "469/469 [==============================] - 10s 20ms/step - loss: 2.2983 - accuracy: 0.1267 - val_loss: 2.2649 - val_accuracy: 0.2423\n",
      "Epoch 2/5\n",
      "469/469 [==============================] - 9s 19ms/step - loss: 2.2523 - accuracy: 0.1935 - val_loss: 2.2148 - val_accuracy: 0.4235\n",
      "Epoch 3/5\n",
      "469/469 [==============================] - 9s 20ms/step - loss: 2.2032 - accuracy: 0.2655 - val_loss: 2.1536 - val_accuracy: 0.5519\n",
      "Epoch 4/5\n",
      "469/469 [==============================] - 9s 19ms/step - loss: 2.1397 - accuracy: 0.3374 - val_loss: 2.0727 - val_accuracy: 0.6289\n",
      "Epoch 5/5\n",
      "469/469 [==============================] - 9s 19ms/step - loss: 2.0577 - accuracy: 0.4031 - val_loss: 1.9668 - val_accuracy: 0.6790\n",
      "Training time: 0:00:46.375883\n",
      "Test score: 1.966835856437683\n",
      "Test accuracy: 0.6790000200271606\n",
      "1/1 [==============================] - 0s 78ms/step\n",
      "Predictions for [[0.19075683 0.03311579 0.22793788 0.15051094 0.05100118 0.06205777\n",
      "  0.05684206 0.05913936 0.12617029 0.0424679 ]]\n",
      "1/1 [==============================] - 0s 13ms/step\n",
      "Predictions for [[0.19262208 0.03417744 0.22914092 0.1526732  0.04756017 0.06257504\n",
      "  0.05450305 0.05924514 0.12608074 0.04142228]]\n",
      "1/1 [==============================] - 0s 13ms/step\n",
      "Predictions for [[0.18922429 0.03403295 0.22818254 0.14662866 0.05013289 0.0621847\n",
      "  0.05702658 0.05949445 0.1289878  0.04410511]]\n",
      "1/1 [==============================] - 0s 12ms/step\n",
      "Predictions for [[0.19004682 0.03562788 0.22058    0.15432648 0.05003926 0.06248122\n",
      "  0.05721191 0.06154072 0.12459426 0.04355141]]\n",
      "1/1 [==============================] - 0s 13ms/step\n"
     ]
    },
    {
     "name": "stderr",
     "output_type": "stream",
     "text": [
      "2023-03-05 15:13:08.899793: I tensorflow/core/grappler/optimizers/custom_graph_optimizer_registry.cc:114] Plugin optimizer for device_type GPU is enabled.\n"
     ]
    },
    {
     "name": "stdout",
     "output_type": "stream",
     "text": [
      "Predictions for [[0.18896683 0.03467231 0.23155785 0.14778133 0.05130074 0.06215703\n",
      "  0.05591715 0.05764651 0.12735257 0.04264766]]\n"
     ]
    }
   ],
   "source": [
    "from __future__ import print_function\n",
    "import datetime\n",
    "from tensorflow import keras\n",
    "from tensorflow.keras.datasets import mnist\n",
    "from tensorflow.keras.models import Sequential\n",
    "from tensorflow.keras.layers import Dense, Dropout, Activation, Flatten,  Conv2D, MaxPooling2D\n",
    "from tensorflow.keras import backend as K\n",
    "import os\n",
    "from keras.utils import img_to_array, load_img\n",
    "from keras.applications import VGG16\n",
    "from keras.applications.vgg16 import preprocess_input, decode_predictions\n",
    "import numpy as np\n",
    "\n",
    "now = datetime.datetime.now\n",
    "batch_size = 128\n",
    "num_classes = 10\n",
    "epochs = 5\n",
    "img_rows, img_cols = 28, 28\n",
    "filters = 32\n",
    "pool_size = 2\n",
    "kernel_size = 3\n",
    "if K.image_data_format() == 'channels_first':\n",
    "    input_shape = (1, img_rows, img_cols)\n",
    "else:\n",
    "    input_shape = (img_rows, img_cols, 1)\n",
    "\n",
    "def train_model(model, train, test, num_classes):\n",
    "    x_train = train[0].reshape((train[0].shape[0],) + input_shape)\n",
    "    x_test = test[0].reshape((test[0].shape[0],) + input_shape)\n",
    "    x_train = x_train.astype('float32')\n",
    "    x_test = x_test.astype('float32')\n",
    "    x_train /= 255\n",
    "    x_test /= 255\n",
    "    print('x_train shape:', x_train.shape)\n",
    "    print(x_train.shape[0], 'train samples')\n",
    "    print(x_test.shape[0], 'test samples')\n",
    "    # convert class vectors to binary class matrices\n",
    "    y_train = keras.utils.to_categorical(train[1], num_classes)\n",
    "    y_test = keras.utils.to_categorical(test[1], num_classes)\n",
    "    model.compile(loss='categorical_crossentropy',\n",
    "                  optimizer='adadelta',\n",
    "                  metrics=['accuracy'])\n",
    "    t = now()\n",
    "    model.fit(x_train, y_train,\n",
    "              batch_size=batch_size,\n",
    "              epochs=epochs,\n",
    "              verbose=1,\n",
    "              validation_data=(x_test, y_test))\n",
    "    print('Training time: %s' % (now() - t))\n",
    "    score = model.evaluate(x_test, y_test, verbose=0)\n",
    "    print('Test score:', score[0])\n",
    "    print('Test accuracy:', score[1])\n",
    "\n",
    "(x_train, y_train), (x_test, y_test) = mnist.load_data()\n",
    "\n",
    "feature_layers = [\n",
    "    Conv2D(filters, kernel_size,\n",
    "           padding='valid',\n",
    "           input_shape=input_shape),\n",
    "    Activation('relu'),\n",
    "    Conv2D(filters, kernel_size),\n",
    "    Activation('relu'),\n",
    "    MaxPooling2D(pool_size=pool_size),\n",
    "    Dropout(0.25),\n",
    "    Flatten(),\n",
    "]\n",
    "\n",
    "classification_layers = [\n",
    "    Dense(128),\n",
    "    Activation('relu'),\n",
    "    Dropout(0.5),\n",
    "    Dense(num_classes),\n",
    "    Activation('softmax')\n",
    "]\n",
    "\n",
    "# create complete model\n",
    "model = Sequential(feature_layers + classification_layers)\n",
    "\n",
    "# train model for 5-digit classification [0..4]\n",
    "train_model(model,\n",
    "            (x_train, y_train),\n",
    "            (x_test, y_test), num_classes)\n",
    "\n",
    "# freeze feature layers and rebuild model\n",
    "for l in feature_layers:\n",
    "    l.trainable = False\n",
    "\n",
    "folder = '../letters HW4/'\n",
    "for f in os.listdir(folder):\n",
    "     if f.endswith('.png'):\n",
    "        img = load_img(os.path.join(folder, f), color_mode='grayscale', target_size=(28, 28))\n",
    "        x = img_to_array(img)\n",
    "        x /= 255\n",
    "        preds = model.predict(np.array([x]))\n",
    "    #    decoded_preds = decode_predictions(preds, top=3)[0]\n",
    "        print('Predictions for', preds)\n",
    "    #    for pred in decoded_preds:\n",
    "    #        print(pred[1], ':', pred[2])\n",
    "\n"
   ]
  }
 ],
 "metadata": {
  "kernelspec": {
   "display_name": "Python 3.9.13 ('ML1')",
   "language": "python",
   "name": "python3"
  },
  "language_info": {
   "codemirror_mode": {
    "name": "ipython",
    "version": 3
   },
   "file_extension": ".py",
   "mimetype": "text/x-python",
   "name": "python",
   "nbconvert_exporter": "python",
   "pygments_lexer": "ipython3",
   "version": "3.9.13"
  },
  "orig_nbformat": 4,
  "vscode": {
   "interpreter": {
    "hash": "3121556d4473c412f0595648b5a85484255f0878c67145bad0a6023335311018"
   }
  }
 },
 "nbformat": 4,
 "nbformat_minor": 2
}
